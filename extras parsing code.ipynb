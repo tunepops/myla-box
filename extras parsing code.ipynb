{
 "cells": [
  {
   "cell_type": "code",
   "execution_count": 1,
   "id": "aecb7040",
   "metadata": {},
   "outputs": [],
   "source": [
    "import pandas as pd\n",
    "import numpy as np\n",
    "import matplotlib.pyplot as plt\n",
    "plt.style.use('ggplot')\n",
    "import seaborn as sns\n",
    "import fitter\n",
    "from fitter import Fitter, get_common_distributions, get_distributions\n",
    "from sklearn.linear_model import LinearRegression as lm\n",
    "import statistics\n",
    "import xlsxwriter"
   ]
  },
  {
   "cell_type": "code",
   "execution_count": 6,
   "id": "fe336474",
   "metadata": {},
   "outputs": [
    {
     "data": {
      "text/plain": [
       "array(['Grade Dist', 'Asgmt Plan', 'Rsrc Acs', 'Set Def'], dtype=object)"
      ]
     },
     "execution_count": 6,
     "metadata": {},
     "output_type": "execute_result"
    }
   ],
   "source": [
    "logData = pd.read_csv('myla_logs_anon.csv')\n",
    "logData['Module'].unique()"
   ]
  },
  {
   "cell_type": "code",
   "execution_count": 3,
   "id": "ea6dcdc9",
   "metadata": {},
   "outputs": [],
   "source": [
    "def get_default_type(txt):\n",
    "    tmp1 = txt.split('default_type')[1]\n",
    "    tmp2 = tmp1.split(',') [0].replace(r':','').strip()\n",
    "    tmp3 = tmp2.replace('\"','').strip()\n",
    "    return tmp3\n",
    "\n",
    "logData['tmp'] = 0\n",
    "logData.loc[logData['Module'] == 'Set Def','tmp'] = \\\n",
    "logData.loc[logData['Module'] == 'Set Def','Extra'].apply(lambda x: get_default_type(x) ) \n",
    "\n",
    "vsd_dict = {0:0,'assignment' : 'Asgmt Plan', 'assignmentv1': 'Asgmt Plan', 'file':'Rsrc Acs', 'grade': 'Grade Dist', 'resource': 'Rsrc Acs'}\n",
    "logData['tmp2'] = logData['tmp'].map(vsd_dict) "
   ]
  },
  {
   "cell_type": "code",
   "execution_count": 4,
   "id": "ee9705b5",
   "metadata": {},
   "outputs": [],
   "source": [
    "logData.loc[logData['Module'] == 'Set Def', 'Module' ] = \\\n",
    "logData.loc[logData['Module'] == 'Set Def', 'tmp2' ]"
   ]
  },
  {
   "cell_type": "code",
   "execution_count": 5,
   "id": "76ee967f",
   "metadata": {},
   "outputs": [],
   "source": [
    "with pd.ExcelWriter('', engine='xlsxwriter') as writer:\n",
    "    logData.to_excel(writer, sheet_name='LogData')"
   ]
  },
  {
   "cell_type": "code",
   "execution_count": null,
   "id": "b3ade003",
   "metadata": {},
   "outputs": [],
   "source": []
  }
 ],
 "metadata": {
  "kernelspec": {
   "display_name": "Python 3 (ipykernel)",
   "language": "python",
   "name": "python3"
  },
  "language_info": {
   "codemirror_mode": {
    "name": "ipython",
    "version": 3
   },
   "file_extension": ".py",
   "mimetype": "text/x-python",
   "name": "python",
   "nbconvert_exporter": "python",
   "pygments_lexer": "ipython3",
   "version": "3.9.7"
  }
 },
 "nbformat": 4,
 "nbformat_minor": 5
}
