{
  "nbformat": 4,
  "nbformat_minor": 0,
  "metadata": {
    "colab": {
      "name": "MyLA data science.ipynb",
      "provenance": [],
      "collapsed_sections": [],
      "include_colab_link": true
    },
    "kernelspec": {
      "name": "python3",
      "display_name": "Python 3"
    },
    "language_info": {
      "name": "python"
    }
  },
  "cells": [
    {
      "cell_type": "markdown",
      "metadata": {
        "id": "view-in-github",
        "colab_type": "text"
      },
      "source": [
        "<a href=\"https://colab.research.google.com/github/tunepops/myla-box/blob/main/MyLA_data_science.ipynb\" target=\"_parent\"><img src=\"https://colab.research.google.com/assets/colab-badge.svg\" alt=\"Open In Colab\"/></a>"
      ]
    },
    {
      "cell_type": "code",
      "source": [
        "pip install dropbox"
      ],
      "metadata": {
        "colab": {
          "base_uri": "https://localhost:8080/"
        },
        "id": "KbUxP7caYmEQ",
        "outputId": "b33cb38b-9017-43e7-aeba-2c2c6775b603"
      },
      "execution_count": null,
      "outputs": [
        {
          "output_type": "stream",
          "name": "stdout",
          "text": [
            "Collecting dropbox\n",
            "  Downloading dropbox-11.27.0-py3-none-any.whl (582 kB)\n",
            "\u001b[?25l\r\u001b[K     |▋                               | 10 kB 16.3 MB/s eta 0:00:01\r\u001b[K     |█▏                              | 20 kB 19.3 MB/s eta 0:00:01\r\u001b[K     |█▊                              | 30 kB 13.6 MB/s eta 0:00:01\r\u001b[K     |██▎                             | 40 kB 8.7 MB/s eta 0:00:01\r\u001b[K     |██▉                             | 51 kB 7.5 MB/s eta 0:00:01\r\u001b[K     |███▍                            | 61 kB 7.0 MB/s eta 0:00:01\r\u001b[K     |████                            | 71 kB 6.9 MB/s eta 0:00:01\r\u001b[K     |████▌                           | 81 kB 7.6 MB/s eta 0:00:01\r\u001b[K     |█████                           | 92 kB 7.8 MB/s eta 0:00:01\r\u001b[K     |█████▋                          | 102 kB 6.9 MB/s eta 0:00:01\r\u001b[K     |██████▏                         | 112 kB 6.9 MB/s eta 0:00:01\r\u001b[K     |██████▊                         | 122 kB 6.9 MB/s eta 0:00:01\r\u001b[K     |███████▎                        | 133 kB 6.9 MB/s eta 0:00:01\r\u001b[K     |███████▉                        | 143 kB 6.9 MB/s eta 0:00:01\r\u001b[K     |████████▍                       | 153 kB 6.9 MB/s eta 0:00:01\r\u001b[K     |█████████                       | 163 kB 6.9 MB/s eta 0:00:01\r\u001b[K     |█████████▋                      | 174 kB 6.9 MB/s eta 0:00:01\r\u001b[K     |██████████▏                     | 184 kB 6.9 MB/s eta 0:00:01\r\u001b[K     |██████████▊                     | 194 kB 6.9 MB/s eta 0:00:01\r\u001b[K     |███████████▎                    | 204 kB 6.9 MB/s eta 0:00:01\r\u001b[K     |███████████▉                    | 215 kB 6.9 MB/s eta 0:00:01\r\u001b[K     |████████████▍                   | 225 kB 6.9 MB/s eta 0:00:01\r\u001b[K     |█████████████                   | 235 kB 6.9 MB/s eta 0:00:01\r\u001b[K     |█████████████▌                  | 245 kB 6.9 MB/s eta 0:00:01\r\u001b[K     |██████████████                  | 256 kB 6.9 MB/s eta 0:00:01\r\u001b[K     |██████████████▋                 | 266 kB 6.9 MB/s eta 0:00:01\r\u001b[K     |███████████████▏                | 276 kB 6.9 MB/s eta 0:00:01\r\u001b[K     |███████████████▊                | 286 kB 6.9 MB/s eta 0:00:01\r\u001b[K     |████████████████▎               | 296 kB 6.9 MB/s eta 0:00:01\r\u001b[K     |████████████████▉               | 307 kB 6.9 MB/s eta 0:00:01\r\u001b[K     |█████████████████▍              | 317 kB 6.9 MB/s eta 0:00:01\r\u001b[K     |██████████████████              | 327 kB 6.9 MB/s eta 0:00:01\r\u001b[K     |██████████████████▋             | 337 kB 6.9 MB/s eta 0:00:01\r\u001b[K     |███████████████████▏            | 348 kB 6.9 MB/s eta 0:00:01\r\u001b[K     |███████████████████▊            | 358 kB 6.9 MB/s eta 0:00:01\r\u001b[K     |████████████████████▎           | 368 kB 6.9 MB/s eta 0:00:01\r\u001b[K     |████████████████████▉           | 378 kB 6.9 MB/s eta 0:00:01\r\u001b[K     |█████████████████████▍          | 389 kB 6.9 MB/s eta 0:00:01\r\u001b[K     |██████████████████████          | 399 kB 6.9 MB/s eta 0:00:01\r\u001b[K     |██████████████████████▌         | 409 kB 6.9 MB/s eta 0:00:01\r\u001b[K     |███████████████████████         | 419 kB 6.9 MB/s eta 0:00:01\r\u001b[K     |███████████████████████▋        | 430 kB 6.9 MB/s eta 0:00:01\r\u001b[K     |████████████████████████▏       | 440 kB 6.9 MB/s eta 0:00:01\r\u001b[K     |████████████████████████▊       | 450 kB 6.9 MB/s eta 0:00:01\r\u001b[K     |█████████████████████████▎      | 460 kB 6.9 MB/s eta 0:00:01\r\u001b[K     |█████████████████████████▉      | 471 kB 6.9 MB/s eta 0:00:01\r\u001b[K     |██████████████████████████▍     | 481 kB 6.9 MB/s eta 0:00:01\r\u001b[K     |███████████████████████████     | 491 kB 6.9 MB/s eta 0:00:01\r\u001b[K     |███████████████████████████▋    | 501 kB 6.9 MB/s eta 0:00:01\r\u001b[K     |████████████████████████████▏   | 512 kB 6.9 MB/s eta 0:00:01\r\u001b[K     |████████████████████████████▊   | 522 kB 6.9 MB/s eta 0:00:01\r\u001b[K     |█████████████████████████████▎  | 532 kB 6.9 MB/s eta 0:00:01\r\u001b[K     |█████████████████████████████▉  | 542 kB 6.9 MB/s eta 0:00:01\r\u001b[K     |██████████████████████████████▍ | 552 kB 6.9 MB/s eta 0:00:01\r\u001b[K     |███████████████████████████████ | 563 kB 6.9 MB/s eta 0:00:01\r\u001b[K     |███████████████████████████████▌| 573 kB 6.9 MB/s eta 0:00:01\r\u001b[K     |████████████████████████████████| 582 kB 6.9 MB/s \n",
            "\u001b[?25hRequirement already satisfied: requests>=2.16.2 in /usr/local/lib/python3.7/dist-packages (from dropbox) (2.23.0)\n",
            "Requirement already satisfied: six>=1.12.0 in /usr/local/lib/python3.7/dist-packages (from dropbox) (1.15.0)\n",
            "Collecting stone>=2.*\n",
            "  Downloading stone-3.3.1-py3-none-any.whl (162 kB)\n",
            "\u001b[K     |████████████████████████████████| 162 kB 38.3 MB/s \n",
            "\u001b[?25hRequirement already satisfied: certifi>=2017.4.17 in /usr/local/lib/python3.7/dist-packages (from requests>=2.16.2->dropbox) (2021.10.8)\n",
            "Requirement already satisfied: idna<3,>=2.5 in /usr/local/lib/python3.7/dist-packages (from requests>=2.16.2->dropbox) (2.10)\n",
            "Requirement already satisfied: chardet<4,>=3.0.2 in /usr/local/lib/python3.7/dist-packages (from requests>=2.16.2->dropbox) (3.0.4)\n",
            "Requirement already satisfied: urllib3!=1.25.0,!=1.25.1,<1.26,>=1.21.1 in /usr/local/lib/python3.7/dist-packages (from requests>=2.16.2->dropbox) (1.24.3)\n",
            "Collecting ply>=3.4\n",
            "  Downloading ply-3.11-py2.py3-none-any.whl (49 kB)\n",
            "\u001b[K     |████████████████████████████████| 49 kB 5.6 MB/s \n",
            "\u001b[?25hInstalling collected packages: ply, stone, dropbox\n",
            "Successfully installed dropbox-11.27.0 ply-3.11 stone-3.3.1\n"
          ]
        }
      ]
    },
    {
      "cell_type": "markdown",
      "source": [
        "**Retrieve data from dropbox**\n",
        "\n",
        "\n",
        "*   [instructions](https://www.dropbox.com/developers/documentation/python#overview) on how to setup an app\n",
        "*   from Dropbox developer apps [console page](https://www.dropbox.com/developers/apps), [generate access token](https://dropbox.tech/developers/generate-an-access-token-for-your-own-account) within the above app\n",
        "\n",
        "  *   go to the Permissions tab, make sure the **\"files.metadata.read\"** and **\"files.content.read\"** permissions are checked; ** DO NOT TURN ON \"files.metadata.read\"** since the script might accidentally remove files from Dropbox\n",
        "\n",
        "*   something\n",
        "\n",
        "\n",
        "\n"
      ],
      "metadata": {
        "id": "bTIsm0TSYaQA"
      }
    },
    {
      "cell_type": "code",
      "execution_count": null,
      "metadata": {
        "id": "p205I5tnYSsN",
        "colab": {
          "base_uri": "https://localhost:8080/",
          "height": 398
        },
        "outputId": "3edb9848-0b4d-48ad-fee0-355a1f6520b6"
      },
      "outputs": [
        {
          "output_type": "error",
          "ename": "ApiError",
          "evalue": "ignored",
          "traceback": [
            "\u001b[0;31m---------------------------------------------------------------------------\u001b[0m",
            "\u001b[0;31mApiError\u001b[0m                                  Traceback (most recent call last)",
            "\u001b[0;32m<ipython-input-4-2786f983e75d>\u001b[0m in \u001b[0;36m<module>\u001b[0;34m()\u001b[0m\n\u001b[1;32m     18\u001b[0m \u001b[0mdbx\u001b[0m \u001b[0;34m=\u001b[0m \u001b[0mdropbox\u001b[0m\u001b[0;34m.\u001b[0m\u001b[0mDropbox\u001b[0m\u001b[0;34m(\u001b[0m\u001b[0;34m'LflarZns2bsAAAAAAAAAAaxmfR3ahK9DyT78o8qA9ZVtOrxYB5hVIaCZAMnsaYuG'\u001b[0m\u001b[0;34m)\u001b[0m \u001b[0;31m## REPLACE TOKEN HERE\u001b[0m\u001b[0;34m\u001b[0m\u001b[0;34m\u001b[0m\u001b[0m\n\u001b[1;32m     19\u001b[0m \u001b[0mdbx\u001b[0m\u001b[0;34m.\u001b[0m\u001b[0musers_get_current_account\u001b[0m\u001b[0;34m(\u001b[0m\u001b[0;34m)\u001b[0m\u001b[0;34m\u001b[0m\u001b[0;34m\u001b[0m\u001b[0m\n\u001b[0;32m---> 20\u001b[0;31m \u001b[0;32mfor\u001b[0m \u001b[0mentry\u001b[0m \u001b[0;32min\u001b[0m \u001b[0mdbx\u001b[0m\u001b[0;34m.\u001b[0m\u001b[0mfiles_list_folder\u001b[0m\u001b[0;34m(\u001b[0m\u001b[0;34m'/MyLA Data Project'\u001b[0m\u001b[0;34m)\u001b[0m\u001b[0;34m.\u001b[0m\u001b[0mentries\u001b[0m\u001b[0;34m:\u001b[0m\u001b[0;34m\u001b[0m\u001b[0;34m\u001b[0m\u001b[0m\n\u001b[0m\u001b[1;32m     21\u001b[0m     \u001b[0mfile_path\u001b[0m \u001b[0;34m=\u001b[0m \u001b[0mentry\u001b[0m\u001b[0;34m.\u001b[0m\u001b[0mpath_lower\u001b[0m\u001b[0;34m\u001b[0m\u001b[0;34m\u001b[0m\u001b[0m\n\u001b[1;32m     22\u001b[0m     \u001b[0mprint\u001b[0m\u001b[0;34m(\u001b[0m\u001b[0mfile_path\u001b[0m\u001b[0;34m)\u001b[0m\u001b[0;34m\u001b[0m\u001b[0;34m\u001b[0m\u001b[0m\n",
            "\u001b[0;32m/usr/local/lib/python3.7/dist-packages/dropbox/base.py\u001b[0m in \u001b[0;36mfiles_list_folder\u001b[0;34m(self, path, recursive, include_media_info, include_deleted, include_has_explicit_shared_members, include_mounted_folders, limit, shared_link, include_property_groups, include_non_downloadable_files)\u001b[0m\n\u001b[1;32m   2134\u001b[0m             \u001b[0;34m'files'\u001b[0m\u001b[0;34m,\u001b[0m\u001b[0;34m\u001b[0m\u001b[0;34m\u001b[0m\u001b[0m\n\u001b[1;32m   2135\u001b[0m             \u001b[0marg\u001b[0m\u001b[0;34m,\u001b[0m\u001b[0;34m\u001b[0m\u001b[0;34m\u001b[0m\u001b[0m\n\u001b[0;32m-> 2136\u001b[0;31m             \u001b[0;32mNone\u001b[0m\u001b[0;34m,\u001b[0m\u001b[0;34m\u001b[0m\u001b[0;34m\u001b[0m\u001b[0m\n\u001b[0m\u001b[1;32m   2137\u001b[0m         )\n\u001b[1;32m   2138\u001b[0m         \u001b[0;32mreturn\u001b[0m \u001b[0mr\u001b[0m\u001b[0;34m\u001b[0m\u001b[0;34m\u001b[0m\u001b[0m\n",
            "\u001b[0;32m/usr/local/lib/python3.7/dist-packages/dropbox/dropbox_client.py\u001b[0m in \u001b[0;36mrequest\u001b[0;34m(self, route, namespace, request_arg, request_binary, timeout)\u001b[0m\n\u001b[1;32m    349\u001b[0m                            \u001b[0mdeserialized_result\u001b[0m\u001b[0;34m,\u001b[0m\u001b[0;34m\u001b[0m\u001b[0;34m\u001b[0m\u001b[0m\n\u001b[1;32m    350\u001b[0m                            \u001b[0muser_message_text\u001b[0m\u001b[0;34m,\u001b[0m\u001b[0;34m\u001b[0m\u001b[0;34m\u001b[0m\u001b[0m\n\u001b[0;32m--> 351\u001b[0;31m                            user_message_locale)\n\u001b[0m\u001b[1;32m    352\u001b[0m         \u001b[0;32melif\u001b[0m \u001b[0mroute_style\u001b[0m \u001b[0;34m==\u001b[0m \u001b[0mself\u001b[0m\u001b[0;34m.\u001b[0m\u001b[0m_ROUTE_STYLE_DOWNLOAD\u001b[0m\u001b[0;34m:\u001b[0m\u001b[0;34m\u001b[0m\u001b[0;34m\u001b[0m\u001b[0m\n\u001b[1;32m    353\u001b[0m             \u001b[0;32mreturn\u001b[0m \u001b[0;34m(\u001b[0m\u001b[0mdeserialized_result\u001b[0m\u001b[0;34m,\u001b[0m \u001b[0mres\u001b[0m\u001b[0;34m.\u001b[0m\u001b[0mhttp_resp\u001b[0m\u001b[0;34m)\u001b[0m\u001b[0;34m\u001b[0m\u001b[0;34m\u001b[0m\u001b[0m\n",
            "\u001b[0;31mApiError\u001b[0m: ApiError('b1a6219d448240609f698af0433636b7', ListFolderError('path', LookupError('not_found', None)))"
          ]
        }
      ],
      "source": [
        "import dropbox\n",
        "import pandas as pd\n",
        "import io\n",
        "\n",
        "# Time Series analysis\n",
        "# https://www.machinelearningplus.com/time-series/time-series-analysis-python/\n",
        "from dateutil.parser import parse \n",
        "import matplotlib as mpl\n",
        "import matplotlib.pyplot as plt\n",
        "import seaborn as sns\n",
        "import numpy as np\n",
        "import pandas as pd\n",
        "plt.rcParams.update({'figure.figsize': (10, 7), 'figure.dpi': 120})\n",
        "\n",
        "# Important:\n",
        "# 1. Save a copy of this script to your own Google Drive\n",
        "# 2. Genereate your own DROPBOX_TOKEN, and NEVER share it with others or check into version control systems like GitHub\n",
        "dbx = dropbox.Dropbox('') ## REPLACE TOKEN HERE\n",
        "dbx.users_get_current_account()\n",
        "for entry in dbx.files_list_folder('/MyLA Data Project').entries:\n",
        "    file_path = entry.path_lower\n",
        "    print(file_path)\n",
        "    # TODO: use regex for mapping the file names\n",
        "    if file_path =='/myla data project/myla_event_log_fall2019-anonymized.csv' \\\n",
        "      or file_path == '/myla data project/myla_event_log_winter2019-anonymized.csv' \\\n",
        "      or file_path == '/myla data project/myla_event_log_winter2020-anonymized.csv':\n",
        "\n",
        "      # download and read file\n",
        "      _, res = dbx.files_download(file_path)\n",
        "      with io.BytesIO(res.content) as stream:\n",
        "        ser = pd.read_csv(stream, parse_dates=['timestamp'], index_col='timestamp')\n",
        "      pd.set_option('max_columns', None)\n",
        "      print(ser.columns)\n",
        "      print(ser.head(5))\n",
        "\n",
        "      # TODO Plot the timeseries\n",
        "    else:\n",
        "      # download and read file\n",
        "      _, res = dbx.files_download(file_path)\n",
        "      with io.BytesIO(res.content) as stream:\n",
        "          df = pd.read_csv(stream, index_col=0)\n",
        "      pd.set_option('max_columns', None)\n",
        "      print(df.columns)\n",
        "      print(df.head(5))\n",
        "      print(df.shape)\n",
        "\n",
        "\n",
        "    "
      ]
    },
    {
      "cell_type": "code",
      "source": [
        ""
      ],
      "metadata": {
        "id": "VcnpqmjHOgiP"
      },
      "execution_count": null,
      "outputs": []
    }
  ]
}