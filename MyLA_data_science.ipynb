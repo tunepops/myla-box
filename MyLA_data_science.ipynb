{
  "nbformat": 4,
  "nbformat_minor": 0,
  "metadata": {
    "colab": {
      "name": "MyLA data science.ipynb",
      "provenance": [],
      "collapsed_sections": [],
      "include_colab_link": true
    },
    "kernelspec": {
      "name": "python3",
      "display_name": "Python 3"
    },
    "language_info": {
      "name": "python"
    }
  },
  "cells": [
    {
      "cell_type": "markdown",
      "metadata": {
        "id": "view-in-github",
        "colab_type": "text"
      },
      "source": [
        "<a href=\"https://colab.research.google.com/github/tunepops/myla-box/blob/main/MyLA_data_science.ipynb\" target=\"_parent\"><img src=\"https://colab.research.google.com/assets/colab-badge.svg\" alt=\"Open In Colab\"/></a>"
      ]
    },
    {
      "cell_type": "code",
      "source": [
        "pip install dropbox"
      ],
      "metadata": {
        "colab": {
          "base_uri": "https://localhost:8080/"
        },
        "id": "KbUxP7caYmEQ",
        "outputId": "a377aef4-2f5f-4049-fe4b-306a120c4253"
      },
      "execution_count": 2,
      "outputs": [
        {
          "output_type": "stream",
          "name": "stdout",
          "text": [
            "Collecting dropbox\n",
            "  Downloading dropbox-11.27.0-py3-none-any.whl (582 kB)\n",
            "\u001b[K     |████████████████████████████████| 582 kB 4.3 MB/s \n",
            "\u001b[?25hRequirement already satisfied: requests>=2.16.2 in /usr/local/lib/python3.7/dist-packages (from dropbox) (2.23.0)\n",
            "Collecting stone>=2.*\n",
            "  Downloading stone-3.3.1-py3-none-any.whl (162 kB)\n",
            "\u001b[K     |████████████████████████████████| 162 kB 43.0 MB/s \n",
            "\u001b[?25hRequirement already satisfied: six>=1.12.0 in /usr/local/lib/python3.7/dist-packages (from dropbox) (1.15.0)\n",
            "Requirement already satisfied: urllib3!=1.25.0,!=1.25.1,<1.26,>=1.21.1 in /usr/local/lib/python3.7/dist-packages (from requests>=2.16.2->dropbox) (1.24.3)\n",
            "Requirement already satisfied: chardet<4,>=3.0.2 in /usr/local/lib/python3.7/dist-packages (from requests>=2.16.2->dropbox) (3.0.4)\n",
            "Requirement already satisfied: idna<3,>=2.5 in /usr/local/lib/python3.7/dist-packages (from requests>=2.16.2->dropbox) (2.10)\n",
            "Requirement already satisfied: certifi>=2017.4.17 in /usr/local/lib/python3.7/dist-packages (from requests>=2.16.2->dropbox) (2021.10.8)\n",
            "Collecting ply>=3.4\n",
            "  Downloading ply-3.11-py2.py3-none-any.whl (49 kB)\n",
            "\u001b[K     |████████████████████████████████| 49 kB 4.0 MB/s \n",
            "\u001b[?25hInstalling collected packages: ply, stone, dropbox\n",
            "Successfully installed dropbox-11.27.0 ply-3.11 stone-3.3.1\n"
          ]
        }
      ]
    },
    {
      "cell_type": "markdown",
      "source": [
        "**Retrieve data from dropbox**\n",
        "\n",
        "\n",
        "*   [instructions](https://www.dropbox.com/developers/documentation/python#overview) on how to setup an app\n",
        "*   from Dropbox developer apps [console page](https://www.dropbox.com/developers/apps), [generate access token](https://dropbox.tech/developers/generate-an-access-token-for-your-own-account) within the above app\n",
        "\n",
        "  *   go to the Permissions tab, make sure the **\"files.metadata.read\"** and **\"files.content.read\"** permissions are checked; ** DO NOT TURN ON \"files.metadata.read\"** since the script might accidentally remove files from Dropbox\n",
        "\n",
        "*   something\n",
        "\n",
        "\n",
        "\n"
      ],
      "metadata": {
        "id": "bTIsm0TSYaQA"
      }
    },
    {
      "cell_type": "code",
      "execution_count": 5,
      "metadata": {
        "id": "p205I5tnYSsN",
        "colab": {
          "base_uri": "https://localhost:8080/",
          "height": 383
        },
        "outputId": "7429722b-8acc-4f5c-b8d5-78e5dd1348cd"
      },
      "outputs": [
        {
          "output_type": "error",
          "ename": "BadInputException",
          "evalue": "ignored",
          "traceback": [
            "\u001b[0;31m---------------------------------------------------------------------------\u001b[0m",
            "\u001b[0;31mBadInputException\u001b[0m                         Traceback (most recent call last)",
            "\u001b[0;32m<ipython-input-5-9a1e7cc052c7>\u001b[0m in \u001b[0;36m<module>\u001b[0;34m()\u001b[0m\n\u001b[1;32m     16\u001b[0m \u001b[0;31m# 1. Save a copy of this script to your own Google Drive\u001b[0m\u001b[0;34m\u001b[0m\u001b[0;34m\u001b[0m\u001b[0;34m\u001b[0m\u001b[0m\n\u001b[1;32m     17\u001b[0m \u001b[0;31m# 2. Genereate your own DROPBOX_TOKEN, and NEVER share it with others or check into version control systems like GitHub\u001b[0m\u001b[0;34m\u001b[0m\u001b[0;34m\u001b[0m\u001b[0;34m\u001b[0m\u001b[0m\n\u001b[0;32m---> 18\u001b[0;31m \u001b[0mdbx\u001b[0m \u001b[0;34m=\u001b[0m \u001b[0mdropbox\u001b[0m\u001b[0;34m.\u001b[0m\u001b[0mDropbox\u001b[0m\u001b[0;34m(\u001b[0m\u001b[0;34m''\u001b[0m\u001b[0;34m)\u001b[0m \u001b[0;31m## REPLACE TOKEN HERE\u001b[0m\u001b[0;34m\u001b[0m\u001b[0;34m\u001b[0m\u001b[0m\n\u001b[0m\u001b[1;32m     19\u001b[0m \u001b[0mdbx\u001b[0m\u001b[0;34m.\u001b[0m\u001b[0musers_get_current_account\u001b[0m\u001b[0;34m(\u001b[0m\u001b[0;34m)\u001b[0m\u001b[0;34m\u001b[0m\u001b[0;34m\u001b[0m\u001b[0m\n\u001b[1;32m     20\u001b[0m \u001b[0;32mfor\u001b[0m \u001b[0mentry\u001b[0m \u001b[0;32min\u001b[0m \u001b[0mdbx\u001b[0m\u001b[0;34m.\u001b[0m\u001b[0mfiles_list_folder\u001b[0m\u001b[0;34m(\u001b[0m\u001b[0;34m'/MyLA Data Project'\u001b[0m\u001b[0;34m)\u001b[0m\u001b[0;34m.\u001b[0m\u001b[0mentries\u001b[0m\u001b[0;34m:\u001b[0m\u001b[0;34m\u001b[0m\u001b[0;34m\u001b[0m\u001b[0m\n",
            "\u001b[0;32m/usr/local/lib/python3.7/dist-packages/dropbox/dropbox_client.py\u001b[0m in \u001b[0;36m__init__\u001b[0;34m(self, oauth2_access_token, max_retries_on_error, max_retries_on_rate_limit, user_agent, session, headers, timeout, oauth2_refresh_token, oauth2_access_token_expiration, app_key, app_secret, scope)\u001b[0m\n\u001b[1;32m    185\u001b[0m         \u001b[0;32mif\u001b[0m \u001b[0;32mnot\u001b[0m \u001b[0;34m(\u001b[0m\u001b[0moauth2_access_token\u001b[0m \u001b[0;32mor\u001b[0m \u001b[0moauth2_refresh_token\u001b[0m \u001b[0;32mor\u001b[0m \u001b[0;34m(\u001b[0m\u001b[0mapp_key\u001b[0m \u001b[0;32mand\u001b[0m \u001b[0mapp_secret\u001b[0m\u001b[0;34m)\u001b[0m\u001b[0;34m)\u001b[0m\u001b[0;34m:\u001b[0m\u001b[0;34m\u001b[0m\u001b[0;34m\u001b[0m\u001b[0m\n\u001b[1;32m    186\u001b[0m             raise BadInputException(\n\u001b[0;32m--> 187\u001b[0;31m                 \u001b[0;34m'OAuth2 access token or refresh token or app key/secret must be set'\u001b[0m\u001b[0;34m\u001b[0m\u001b[0;34m\u001b[0m\u001b[0m\n\u001b[0m\u001b[1;32m    188\u001b[0m             )\n\u001b[1;32m    189\u001b[0m \u001b[0;34m\u001b[0m\u001b[0m\n",
            "\u001b[0;31mBadInputException\u001b[0m: OAuth2 access token or refresh token or app key/secret must be set"
          ]
        }
      ],
      "source": [
        "import dropbox\n",
        "import pandas as pd\n",
        "import io\n",
        "\n",
        "# Time Series analysis\n",
        "# https://www.machinelearningplus.com/time-series/time-series-analysis-python/\n",
        "from dateutil.parser import parse \n",
        "import matplotlib as mpl\n",
        "import matplotlib.pyplot as plt\n",
        "import seaborn as sns\n",
        "import numpy as np\n",
        "import pandas as pd\n",
        "plt.rcParams.update({'figure.figsize': (10, 7), 'figure.dpi': 120})\n",
        "\n",
        "# Important:\n",
        "# 1. Save a copy of this script to your own Google Drive\n",
        "# 2. Genereate your own DROPBOX_TOKEN, and NEVER share it with others or check into version control systems like GitHub\n",
        "dbx = dropbox.Dropbox('') ## REPLACE TOKEN HERE\n",
        "dbx.users_get_current_account()\n",
        "for entry in dbx.files_list_folder('/MyLA Data Project').entries:\n",
        "    file_path = entry.path_lower\n",
        "    print(file_path)\n",
        "    # TODO: use regex for mapping the file names\n",
        "    if file_path =='/myla data project/myla_event_log_fall2019-anonymized.csv' \\\n",
        "      or file_path == '/myla data project/myla_event_log_winter2019-anonymized.csv' \\\n",
        "      or file_path == '/myla data project/myla_event_log_winter2020-anonymized.csv':\n",
        "\n",
        "      # download and read file\n",
        "      _, res = dbx.files_download(file_path)\n",
        "      with io.BytesIO(res.content) as stream:\n",
        "        ser = pd.read_csv(stream, parse_dates=['timestamp'], index_col='timestamp')\n",
        "      pd.set_option('max_columns', None)\n",
        "      print(ser.columns)\n",
        "      print(ser.head(5))\n",
        "\n",
        "      # TODO Plot the timeseries\n",
        "    else:\n",
        "      # download and read file\n",
        "      _, res = dbx.files_download(file_path)\n",
        "      with io.BytesIO(res.content) as stream:\n",
        "          df = pd.read_csv(stream, index_col=0)\n",
        "      pd.set_option('max_columns', None)\n",
        "      print(df.columns)\n",
        "      print(df.head(5))\n",
        "      print(df.shape)\n",
        "\n",
        "\n",
        "    "
      ]
    },
    {
      "cell_type": "code",
      "source": [
        ""
      ],
      "metadata": {
        "id": "VcnpqmjHOgiP"
      },
      "execution_count": null,
      "outputs": []
    }
  ]
}